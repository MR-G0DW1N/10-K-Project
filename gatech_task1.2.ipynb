{
 "cells": [
  {
   "cell_type": "code",
   "execution_count": 1,
   "metadata": {},
   "outputs": [],
   "source": [
    "from bs4 import BeautifulSoup"
   ]
  },
  {
   "cell_type": "code",
   "execution_count": 2,
   "metadata": {},
   "outputs": [],
   "source": [
    "def find_table_recursive(element):\n",
    "\n",
    "    parent = element.find_next_sibling('div')\n",
    "    table = parent.find('table')\n",
    "    if table is not None:\n",
    "        return table  \n",
    "\n",
    "    if parent is not None:\n",
    "        return find_table_recursive(parent)  \n",
    "\n",
    "    return None      \n"
   ]
  },
  {
   "cell_type": "code",
   "execution_count": 35,
   "metadata": {},
   "outputs": [],
   "source": [
    "def findtable(soup1):\n",
    "\n",
    "    table1 = soup1.find_all('p')\n",
    "    \n",
    "    if len(table1)!=0:\n",
    "        for t in table1:\n",
    "            for child in t.children:\n",
    "                str1 = child.get_text()\n",
    "                #print(str1+'n')\n",
    "                if r'CONSOLIDATED'and 'BALANCE'and 'SHEETS' in str1:\n",
    "                    p = t.find_next_sibling('table')\n",
    "                    if p is None :\n",
    "                        find_table_recursive(t)\n",
    "\n",
    "                    rows = p.find_all('td')\n",
    "                    \n",
    "                    row_data = []\n",
    "                    \n",
    "                    for row in rows:\n",
    "                        #print(row.get_text())\n",
    "                        row_data.append(row.get_text(strip=True))\n",
    "\n",
    "                    s = []\n",
    "\n",
    "                    for j in row_data:\n",
    "                        if j == str(''):\n",
    "                            continue\n",
    "                        else:\n",
    "                            s.append(j)\n",
    "\n",
    "                            \n",
    "                    prompt_data =''\n",
    "                    prompt_data = prompt_data.join(s)\n",
    "\n",
    "                    return prompt_data\n",
    "                \n",
    "    else:\n",
    "        table1 = soup1.find_all('div')\n",
    "        for t in table1:\n",
    "            str2 = t.get_text()\n",
    "            if 'CONSOLIDATED' and 'BALANCE'and 'SHEETS' in str2:\n",
    "                z = find_table_recursive(t)\n",
    "\n",
    "                rows = z.find_all('td')\n",
    "                            \n",
    "                row_data = []\n",
    "                \n",
    "                for row in rows:\n",
    "                    row_data.append(row.get_text(strip=True))\n",
    "                \n",
    "                s = []\n",
    "\n",
    "                for j in row_data:\n",
    "                    if j == str(''):\n",
    "                        continue\n",
    "                    else:\n",
    "                        s.append(j)\n",
    "            \n",
    "                prompt_data =''\n",
    "                prompt_data = prompt_data.join(s)\n",
    "\n",
    "                return prompt_data\n"
   ]
  },
  {
   "cell_type": "code",
   "execution_count": 9,
   "metadata": {},
   "outputs": [],
   "source": [
    "#D:/Ubuntu/sec-edgar-filings/AAPL/10-K/0001047469-02-007674/primary-document.html"
   ]
  },
  {
   "cell_type": "code",
   "execution_count": 10,
   "metadata": {},
   "outputs": [],
   "source": [
    "#D:/Ubuntu/sec-edgar-filings/NVDA/10-K/0001045810-06-000014/primary-document.html"
   ]
  },
  {
   "cell_type": "code",
   "execution_count": 36,
   "metadata": {},
   "outputs": [],
   "source": [
    "new_file = open(r\"D:/Ubuntu/SEC/sec-edgar-filings/META/10-K/0001326801-13-000003/primary-document.html\",\"r\")\n",
    "htm1 = new_file.read()\n",
    "soup1 = BeautifulSoup(htm1,'html.parser')"
   ]
  },
  {
   "cell_type": "code",
   "execution_count": 37,
   "metadata": {},
   "outputs": [],
   "source": [
    "p=findtable(soup1)"
   ]
  },
  {
   "cell_type": "code",
   "execution_count": 38,
   "metadata": {},
   "outputs": [
    {
     "name": "stdout",
     "output_type": "stream",
     "text": [
      "December 31,20122011AssetsCurrent assets:Cash and cash equivalents$2,384$1,512Marketable securities7,2422,396Accounts receivable, net of allowances for doubtful accounts of $22 and $17 as of December 31, 2012 and 2011, respectively719547Income tax refundable451—Prepaid expenses and other current assets471149Total current assets11,2674,604Property and equipment, net2,3911,475Goodwill and intangible assets, net1,388162Other assets5790Total assets$15,103$6,331Liabilities and stockholders' equityCurrent liabilities:Accounts payable$65$63Platform partners payable169171Accrued expenses and other current liabilities423296Deferred revenue and deposits3090Current portion of capital lease obligations365279Total current liabilities1,052899Capital lease obligations, less current portion491398Long-term debt1,500—Other liabilities305135Total liabilities3,3481,432Commitments and contingenciesStockholders' equity:Convertible preferred stock, $0.000006 par value, issuable in series; no shares and 569 million shares authorized as of December 31, 2012 and 2011, respectively, no shares and 543 million shares issued and outstanding as of December 31, 2012 and 2011, respectively—615Common stock, $0.000006 par value; 5,000 million and 4,141 million Class A shares authorized as of December 31, 2012 and 2011, respectively, 1,671 million and 117 million shares issued and outstanding, including 2 million and 1 million outstanding shares subject to repurchase as of December 31, 2012 and 2011, respectively; 4,141 million Class B shares authorized, 701 million and 1,213 million shares issued and outstanding, including 11 million and 2 million outstanding shares subject to repurchase as of December 31, 2012 and 2011, respectively——Additional paid-in capital10,0942,684Accumulated other comprehensive income (loss)2(6)Retained earnings1,6591,606Total stockholders' equity11,7554,899Total liabilities and stockholders' equity$15,103$6,331\n"
     ]
    }
   ],
   "source": [
    "print(p)"
   ]
  },
  {
   "cell_type": "code",
   "execution_count": null,
   "metadata": {},
   "outputs": [],
   "source": [
    "init_prompt = 'Analyse this data for me and find insights from it: '\n",
    "prompt = init_prompt +p"
   ]
  },
  {
   "cell_type": "code",
   "execution_count": null,
   "metadata": {},
   "outputs": [],
   "source": [
    "prompt"
   ]
  },
  {
   "cell_type": "code",
   "execution_count": 33,
   "metadata": {},
   "outputs": [],
   "source": [
    "import textwrap\n",
    "\n",
    "import google.generativeai as genai\n",
    "\n",
    "from IPython.display import display\n",
    "from IPython.display import Markdown\n",
    "\n",
    "\n",
    "def to_markdown(text):\n",
    "  text = text.replace('•', '  *')\n",
    "  return Markdown(textwrap.indent(text, '> ', predicate=lambda _: True))\n"
   ]
  },
  {
   "cell_type": "code",
   "execution_count": 30,
   "metadata": {},
   "outputs": [],
   "source": [
    "from config import api_key"
   ]
  },
  {
   "cell_type": "code",
   "execution_count": 34,
   "metadata": {},
   "outputs": [],
   "source": [
    "genai.configure(api_key=api_key)"
   ]
  },
  {
   "cell_type": "code",
   "execution_count": null,
   "metadata": {},
   "outputs": [],
   "source": [
    "model = genai.GenerativeModel('gemini-pro')"
   ]
  },
  {
   "cell_type": "code",
   "execution_count": null,
   "metadata": {},
   "outputs": [],
   "source": [
    "response = model.generate_content(prompt)"
   ]
  },
  {
   "cell_type": "code",
   "execution_count": null,
   "metadata": {},
   "outputs": [],
   "source": [
    "to_markdown(response.text)"
   ]
  },
  {
   "cell_type": "code",
   "execution_count": null,
   "metadata": {},
   "outputs": [],
   "source": []
  }
 ],
 "metadata": {
  "kernelspec": {
   "display_name": "Python 3",
   "language": "python",
   "name": "python3"
  },
  "language_info": {
   "codemirror_mode": {
    "name": "ipython",
    "version": 3
   },
   "file_extension": ".py",
   "mimetype": "text/x-python",
   "name": "python",
   "nbconvert_exporter": "python",
   "pygments_lexer": "ipython3",
   "version": "3.11.4"
  }
 },
 "nbformat": 4,
 "nbformat_minor": 2
}
